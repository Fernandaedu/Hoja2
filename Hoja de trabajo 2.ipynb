{
 "cells": [
  {
   "cell_type": "markdown",
   "id": "feb17a22",
   "metadata": {},
   "source": [
    "# Pregunta1 Haga un programa en Python que reciba de parámetro un número de segundos y que despliegue en pantalla, las horas, minutos y segundos que representan"
   ]
  },
  {
   "cell_type": "code",
   "execution_count": 1,
   "id": "30b843d0",
   "metadata": {},
   "outputs": [
    {
     "name": "stdout",
     "output_type": "stream",
     "text": [
      "Cantidad de segundos:2344\n",
      "días: 0 - Horas: 0 - Minutos 39 - Segundos: 4\n"
     ]
    }
   ],
   "source": [
    "segundos= int(input('Cantidad de segundos:'))\n",
    "\n",
    "dias= segundos //(24*60*60)\n",
    "segundos= segundos %(24*60*60)\n",
    "horas= segundos //(60*60)\n",
    "segundos= segundos % (60*60)\n",
    "minutos= segundos // 60\n",
    "segundos = segundos % 60\n",
    "\n",
    "print('días: {} - Horas: {} - Minutos {} - Segundos: {}'.format(dias, horas, minutos, segundos))"
   ]
  },
  {
   "cell_type": "markdown",
   "id": "22b282cf",
   "metadata": {},
   "source": [
    "# Pregunta2 Haga una función en Python que dado un número entre 1 y 20. Y un carácter cualquiera despliegue cuatro patrones triangulares"
   ]
  },
  {
   "cell_type": "markdown",
   "id": "3ff3948f",
   "metadata": {},
   "source": [
    "n = int(input(\"Ingrese número: \"))\n",
    "if n > 0 < 21:\n",
    "    comprobar = False\n",
    "    \n",
    "    for i in range (n+1):\n",
    "        print(\"* \"*i)\n",
    "         \n",
    "    for i in range(n-0,0,-1):\n",
    "        espacios=n-i\n",
    "        print(\" \"*espacios+'*'*i)  \n",
    "            \n",
    "    for i in range(n-0,0,-1):\n",
    "        espacios=n-i\n",
    "        print(\" \"*espacios+'*'*i)\n",
    "\n",
    "    for i in range (n+1):\n",
    "        print(\"* \"*i)\n",
    "else:\n",
    "    print(\"Número ingresado no es correcto. Intentar de nuevo\")"
   ]
  },
  {
   "cell_type": "markdown",
   "id": "f2641f93",
   "metadata": {},
   "source": [
    "# Pregunta3 Haga un programa en Python que la fecha de nacimiento de una persona (puede ingresar por separado cada valor, es decir pedir primero d´ıa, luego mes y luego an˜o), despliegue la edad de la persona en an˜os, meses y d´ıas. Su resultado puede ser aproximado."
   ]
  },
  {
   "cell_type": "code",
   "execution_count": 10,
   "id": "059e2487",
   "metadata": {},
   "outputs": [
    {
     "name": "stdout",
     "output_type": "stream",
     "text": [
      "Introduce el día de nacimiento 11\n",
      "Introduce el mes de nacimiento 3\n",
      "Introduce el año de nacimiento 1991\n",
      "Introduce el día actual 28\n",
      "Introduce el mes actual 2\n",
      "Introduce el año actual 2023\n",
      "Tiene 31 años -1 meses y 17 días\n"
     ]
    }
   ],
   "source": [
    "from datetime import date\n",
    "from datetime import datetime\n",
    "\n",
    "dia_cumple=int(input(\"Introduce el día de nacimiento \"))\n",
    "mes_cumple=int(input(\"Introduce el mes de nacimiento \"))\n",
    "año_cumple=int(input(\"Introduce el año de nacimiento \"))\n",
    "\n",
    "dia_resultado=int(input(\"Introduce el día actual \"))\n",
    "mes_resultado=int(input(\"Introduce el mes actual \"))\n",
    "año_resultado=int(input(\"Introduce el año actual \"))\n",
    "\n",
    "edad = año_resltado-1- año_cumple\n",
    "meses = mes_resultado-mes_cumple\n",
    "mes=mes_resultado-mes_cumple\n",
    "dias = dia_resultado-dia_cumple\n",
    "\n",
    "print(\"Tiene {} años {} meses y {} días\".format(edad,mes,dias))"
   ]
  },
  {
   "cell_type": "markdown",
   "id": "ea34162c",
   "metadata": {},
   "source": [
    "# Pregunta 4. Escriba una función en Python que dada una tupla de elementos (números o letras) esta se convierta a un string. Tomar nota del siguiente ejemplo: Si la entrada fuera: (10, 20, 40, 5, 70) La salida deber´ıa ser: 102040570"
   ]
  },
  {
   "cell_type": "code",
   "execution_count": 12,
   "id": "732247b3",
   "metadata": {},
   "outputs": [
    {
     "name": "stdout",
     "output_type": "stream",
     "text": [
      "102040570\n"
     ]
    }
   ],
   "source": [
    "Tupla =(10, 20, 40, 5, 70)\n",
    "s=''.join(map(str,Tupla))\n",
    "print (s)"
   ]
  },
  {
   "cell_type": "markdown",
   "id": "f7457ffb",
   "metadata": {},
   "source": [
    "# Pregunta5.  Cree un programa en Python que dada una lista de tuplas, elimine las tuplas que est´an vacias. Tomar nota del siguiente ejemplo:"
   ]
  },
  {
   "cell_type": "code",
   "execution_count": 13,
   "id": "4b9864b2",
   "metadata": {},
   "outputs": [
    {
     "name": "stdout",
     "output_type": "stream",
     "text": [
      "[('X',), ('a', 'b'), ('a', 'b', 'c'), 'd']\n"
     ]
    }
   ],
   "source": [
    "Tupla1 =[(),(),('X',),('a','b'),('a','b','c'),('d')]\n",
    "Tuplas=[t for t in Tupla1 if t]\n",
    "print (Tuplas)"
   ]
  },
  {
   "cell_type": "markdown",
   "id": "2d082d39",
   "metadata": {},
   "source": [
    "# Pregunta6. Cree una funcion en Python que dada una tupla de tuplas con numeros, produzca una tupla con el promedio de cada tupla individual. Tomar nota del siguiente ejemplo"
   ]
  },
  {
   "cell_type": "code",
   "execution_count": 14,
   "id": "ba22c999",
   "metadata": {},
   "outputs": [
    {
     "name": "stdout",
     "output_type": "stream",
     "text": [
      "[10.5 44.  58. ]\n"
     ]
    }
   ],
   "source": [
    "import numpy as np\n",
    "Tupla = ((10, 10, 10, 12), (30, 45, 56, 45), (81, 80, 39, 32))\n",
    "mean = np.mean(Tupla, axis=1)\n",
    "print(mean)"
   ]
  },
  {
   "cell_type": "markdown",
   "id": "174f6fbf",
   "metadata": {},
   "source": [
    "# Pregunta7"
   ]
  },
  {
   "cell_type": "code",
   "execution_count": null,
   "id": "bab39089",
   "metadata": {},
   "outputs": [
    {
     "name": "stdout",
     "output_type": "stream",
     "text": [
      "MENU\n",
      "Que accion deseas realizar:\n",
      "1-Agregar factura\n",
      "2-Pagar factura\n",
      "3-SALIR\n",
      "1\n",
      "AGREGAR FACTURA\n",
      "Numero de factura:\n",
      "1\n",
      "Importe de factura:\n",
      "50\n",
      "pendiente: $50.0\n",
      "cobrado: $0\n",
      "\n",
      "\n",
      "MENU\n",
      "Que accion deseas realizar:\n",
      "1-Agregar factura\n",
      "2-Pagar factura\n",
      "3-SALIR\n",
      "2\n",
      "Pagar factura\n",
      "Escriba numero de factura:\n",
      "1\n",
      "pendiente: $0.0\n",
      "cobrado: $50.0\n",
      "\n",
      "\n",
      "MENU\n",
      "Que accion deseas realizar:\n",
      "1-Agregar factura\n",
      "2-Pagar factura\n",
      "3-SALIR\n",
      "1\n",
      "AGREGAR FACTURA\n",
      "Numero de factura:\n",
      "2\n",
      "Importe de factura:\n",
      "500\n",
      "pendiente: $500.0\n",
      "cobrado: $50.0\n",
      "\n",
      "\n",
      "MENU\n",
      "Que accion deseas realizar:\n",
      "1-Agregar factura\n",
      "2-Pagar factura\n",
      "3-SALIR\n",
      "1\n",
      "AGREGAR FACTURA\n",
      "Numero de factura:\n",
      "3\n",
      "Importe de factura:\n",
      "1000\n",
      "pendiente: $1500.0\n",
      "cobrado: $50.0\n",
      "\n",
      "\n"
     ]
    }
   ],
   "source": [
    "facturas = {}\n",
    "bandera = \"s\"\n",
    "pendiente = 0\n",
    "cobrado=0\n",
    "\n",
    "while bandera == \"s\":\n",
    "    op = input(\"MENU\\nQue accion deseas realizar:\\n1-Agregar factura\\n2-Pagar factura\\n3-SALIR\\n\")\n",
    "    \n",
    "    if op == \"1\":\n",
    "        numf = int(input(\"AGREGAR FACTURA\\nNumero de factura:\\n\"))\n",
    "        valor = float(input(\"Importe de factura:\\n\"))\n",
    "        facturas[numf] = valor\n",
    "        pendiente += valor\n",
    "        print(\"pendiente: $\"+ str(pendiente))\n",
    "        print(\"cobrado: $\"+str(cobrado)+\"\\n\\n\")\n",
    "        \n",
    "    elif op == \"2\":\n",
    "        numf=int(input(\"Pagar factura\\nEscriba numero de factura:\\n\"))\n",
    "        if numf in facturas:\n",
    "            pendiente -= facturas[numf]\n",
    "            cobrado += facturas[numf]\n",
    "        else:\n",
    "            print(\"Error: No se encontro la factura\")\n",
    "    \n",
    "        print(\"pendiente: $\"+ str(pendiente))\n",
    "        print(\"cobrado: $\"+ str(cobrado)+\"\\n\\n\")\n",
    "        \n",
    "    elif op == \"3\":\n",
    "         print(\"pendiente: $\"+ str(pendiente))\n",
    "         print(\"cobrado: $\"+ str(cobrado)+\"\\n\\n\")\n",
    "         bandera = \"n\""
   ]
  },
  {
   "cell_type": "code",
   "execution_count": null,
   "id": "e9ffae84",
   "metadata": {},
   "outputs": [],
   "source": []
  }
 ],
 "metadata": {
  "kernelspec": {
   "display_name": "Python 3 (ipykernel)",
   "language": "python",
   "name": "python3"
  },
  "language_info": {
   "codemirror_mode": {
    "name": "ipython",
    "version": 3
   },
   "file_extension": ".py",
   "mimetype": "text/x-python",
   "name": "python",
   "nbconvert_exporter": "python",
   "pygments_lexer": "ipython3",
   "version": "3.9.12"
  }
 },
 "nbformat": 4,
 "nbformat_minor": 5
}
